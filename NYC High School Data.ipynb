{
 "cells": [
  {
   "cell_type": "markdown",
   "id": "a6299da3-d2f0-4357-b2be-45d04532671e",
   "metadata": {},
   "source": [
    "# Read the Data"
   ]
  },
  {
   "cell_type": "code",
   "execution_count": 3,
   "id": "640a5687-4db7-4526-8cf2-bd85c66679cb",
   "metadata": {},
   "outputs": [],
   "source": [
    "import pandas as pd\n",
    "import numpy\n",
    "import re\n",
    "import matplotlib.pyplot as plt\n",
    "%matplotlib inline\n",
    "\n",
    "data_files = [\n",
    "    \"ap_2010.csv\",\n",
    "    \"class_size.csv\",\n",
    "    \"demographics.csv\",\n",
    "    \"graduation.csv\",\n",
    "    \"hs_directory.csv\",\n",
    "    \"sat_results.csv\"\n",
    "]\n",
    "\n",
    "data = {}\n",
    "\n",
    "for f in data_files:\n",
    "    d = pd.read_csv(\"datasets/{0}\".format(f))\n",
    "    data[f.replace(\".csv\", \"\")] = d"
   ]
  },
  {
   "cell_type": "markdown",
   "id": "86b69329-ab15-452a-b990-8264eae4153e",
   "metadata": {},
   "source": [
    "# Read in the Surveys"
   ]
  },
  {
   "cell_type": "code",
   "execution_count": 5,
   "id": "94e9bc6a-0168-4090-929e-eb82a1f487fb",
   "metadata": {},
   "outputs": [
    {
     "name": "stderr",
     "output_type": "stream",
     "text": [
      "/var/folders/5f/1dm3w4px4b3cvb1gz1gfkx5w0000gn/T/ipykernel_68352/2814402296.py:5: PerformanceWarning: DataFrame is highly fragmented.  This is usually the result of calling `frame.insert` many times, which has poor performance.  Consider joining all columns at once using pd.concat(axis=1) instead.  To get a de-fragmented frame, use `newframe = frame.copy()`\n",
      "  survey[\"DBN\"] = survey[\"dbn\"]\n"
     ]
    }
   ],
   "source": [
    "all_survey = pd.read_csv(\"datasets/survey_all.txt\", delimiter=\"\\t\", encoding='windows-1252')\n",
    "d75_survey = pd.read_csv(\"datasets/survey_d75.txt\", delimiter=\"\\t\", encoding='windows-1252')\n",
    "survey = pd.concat([all_survey, d75_survey], axis=0)\n",
    "\n",
    "survey[\"DBN\"] = survey[\"dbn\"]\n",
    "\n",
    "survey_fields = [\n",
    "    \"DBN\", \n",
    "    \"rr_s\", \n",
    "    \"rr_t\", \n",
    "    \"rr_p\", \n",
    "    \"N_s\", \n",
    "    \"N_t\", \n",
    "    \"N_p\", \n",
    "    \"saf_p_11\", \n",
    "    \"com_p_11\", \n",
    "    \"eng_p_11\", \n",
    "    \"aca_p_11\", \n",
    "    \"saf_t_11\", \n",
    "    \"com_t_11\", \n",
    "    \"eng_t_11\", \n",
    "    \"aca_t_11\", \n",
    "    \"saf_s_11\", \n",
    "    \"com_s_11\", \n",
    "    \"eng_s_11\", \n",
    "    \"aca_s_11\", \n",
    "    \"saf_tot_11\", \n",
    "    \"com_tot_11\", \n",
    "    \"eng_tot_11\", \n",
    "    \"aca_tot_11\",\n",
    "]\n",
    "survey = survey.loc[:,survey_fields]\n",
    "data[\"survey\"] = survey"
   ]
  },
  {
   "cell_type": "markdown",
   "id": "a8736a3b-067b-4888-a29f-8a7787480b38",
   "metadata": {},
   "source": [
    "# Add DBN columns"
   ]
  },
  {
   "cell_type": "code",
   "execution_count": 6,
   "id": "ee45e0ef-68a6-4485-b826-737dfedd3faa",
   "metadata": {},
   "outputs": [],
   "source": [
    "data[\"hs_directory\"][\"DBN\"] = data[\"hs_directory\"][\"dbn\"]\n",
    "\n",
    "def pad_csd(num):\n",
    "    string_representation = str(num)\n",
    "    if len(string_representation) > 1:\n",
    "        return string_representation\n",
    "    else:\n",
    "        return \"0\" + string_representation\n",
    "    \n",
    "data[\"class_size\"][\"padded_csd\"] = data[\"class_size\"][\"CSD\"].apply(pad_csd)\n",
    "data[\"class_size\"][\"DBN\"] = data[\"class_size\"][\"padded_csd\"] + data[\"class_size\"][\"SCHOOL CODE\"]"
   ]
  },
  {
   "cell_type": "markdown",
   "id": "0f3ba43d-7cce-4864-a98a-4ff4bd517db4",
   "metadata": {},
   "source": [
    "# Convert columns to numeric"
   ]
  },
  {
   "cell_type": "code",
   "execution_count": 7,
   "id": "d86d70ec-5361-45ac-a125-cc74dec06082",
   "metadata": {},
   "outputs": [],
   "source": [
    "cols = ['SAT Math Avg. Score', 'SAT Critical Reading Avg. Score', 'SAT Writing Avg. Score']\n",
    "for c in cols:\n",
    "    data[\"sat_results\"][c] = pd.to_numeric(data[\"sat_results\"][c], errors=\"coerce\")\n",
    "\n",
    "data['sat_results']['sat_score'] = data['sat_results'][cols[0]] + data['sat_results'][cols[1]] + data['sat_results'][cols[2]]\n",
    "\n",
    "def find_lat(loc):\n",
    "    coords = re.findall(\"\\(.+, .+\\)\", loc)\n",
    "    lat = coords[0].split(\",\")[0].replace(\"(\", \"\")\n",
    "    return lat\n",
    "\n",
    "def find_lon(loc):\n",
    "    coords = re.findall(\"\\(.+, .+\\)\", loc)\n",
    "    lon = coords[0].split(\",\")[1].replace(\")\", \"\").strip()\n",
    "    return lon\n",
    "\n",
    "data[\"hs_directory\"][\"lat\"] = data[\"hs_directory\"][\"Location 1\"].apply(find_lat)\n",
    "data[\"hs_directory\"][\"lon\"] = data[\"hs_directory\"][\"Location 1\"].apply(find_lon)\n",
    "\n",
    "data[\"hs_directory\"][\"lat\"] = pd.to_numeric(data[\"hs_directory\"][\"lat\"], errors=\"coerce\")\n",
    "data[\"hs_directory\"][\"lon\"] = pd.to_numeric(data[\"hs_directory\"][\"lon\"], errors=\"coerce\")"
   ]
  },
  {
   "cell_type": "markdown",
   "id": "128c8cd8-9cbe-44d7-90ce-9085d0dee5bc",
   "metadata": {},
   "source": [
    "# Condense datasets"
   ]
  },
  {
   "cell_type": "code",
   "execution_count": 8,
   "id": "a55bdd10-ca39-430e-a40d-aff4b3b1a3c4",
   "metadata": {},
   "outputs": [],
   "source": [
    "class_size = data[\"class_size\"]\n",
    "class_size = class_size[class_size[\"GRADE \"] == \"09-12\"]\n",
    "class_size = class_size[class_size[\"PROGRAM TYPE\"] == \"GEN ED\"]\n",
    "\n",
    "class_size = class_size.groupby(\"DBN\").agg(numpy.mean)\n",
    "class_size.reset_index(inplace=True)\n",
    "data[\"class_size\"] = class_size\n",
    "\n",
    "data[\"demographics\"] = data[\"demographics\"][data[\"demographics\"][\"schoolyear\"] == 20112012]\n",
    "\n",
    "data[\"graduation\"] = data[\"graduation\"][data[\"graduation\"][\"Cohort\"] == \"2006\"]\n",
    "data[\"graduation\"] = data[\"graduation\"][data[\"graduation\"][\"Demographic\"] == \"Total Cohort\"]"
   ]
  },
  {
   "cell_type": "markdown",
   "id": "47ff343a-3082-4130-8c60-0d0e1476f18a",
   "metadata": {},
   "source": [
    "# Convert AP scores to numeric"
   ]
  },
  {
   "cell_type": "code",
   "execution_count": 9,
   "id": "1e4e0d84-481e-487b-89d2-6f67491ee16e",
   "metadata": {},
   "outputs": [],
   "source": [
    "cols = ['AP Test Takers ', 'Total Exams Taken', 'Number of Exams with scores 3 4 or 5']\n",
    "\n",
    "for col in cols:\n",
    "    data[\"ap_2010\"][col] = pd.to_numeric(data[\"ap_2010\"][col], errors=\"coerce\")"
   ]
  },
  {
   "cell_type": "markdown",
   "id": "34864d6a-36b4-4c71-8895-3d217bfe8d67",
   "metadata": {},
   "source": [
    "# Combine the datasets"
   ]
  },
  {
   "cell_type": "code",
   "execution_count": 10,
   "id": "e2ef050b-af93-479e-956e-2e4ae7f4bd14",
   "metadata": {},
   "outputs": [
    {
     "name": "stderr",
     "output_type": "stream",
     "text": [
      "/var/folders/5f/1dm3w4px4b3cvb1gz1gfkx5w0000gn/T/ipykernel_68352/3398560250.py:11: FutureWarning: Dropping of nuisance columns in DataFrame reductions (with 'numeric_only=None') is deprecated; in a future version this will raise TypeError.  Select only valid columns before calling the reduction.\n",
      "  combined = combined.fillna(combined.mean())\n"
     ]
    }
   ],
   "source": [
    "combined = data[\"sat_results\"]\n",
    "\n",
    "combined = combined.merge(data[\"ap_2010\"], on=\"DBN\", how=\"left\")\n",
    "combined = combined.merge(data[\"graduation\"], on=\"DBN\", how=\"left\")\n",
    "\n",
    "to_merge = [\"class_size\", \"demographics\", \"survey\", \"hs_directory\"]\n",
    "\n",
    "for m in to_merge:\n",
    "    combined = combined.merge(data[m], on=\"DBN\", how=\"inner\")\n",
    "\n",
    "combined = combined.fillna(combined.mean())\n",
    "combined = combined.fillna(0)"
   ]
  },
  {
   "cell_type": "markdown",
   "id": "8b1875b5-e36f-4843-894d-c426cc6733dd",
   "metadata": {},
   "source": [
    "# Add a school district column for mapping"
   ]
  },
  {
   "cell_type": "code",
   "execution_count": 11,
   "id": "8a4b87f4-6639-4bdd-a1ec-c8ba1ffc3a48",
   "metadata": {},
   "outputs": [],
   "source": [
    "def get_first_two_chars(dbn):\n",
    "    return dbn[0:2]\n",
    "\n",
    "combined[\"school_dist\"] = combined[\"DBN\"].apply(get_first_two_chars)"
   ]
  },
  {
   "cell_type": "markdown",
   "id": "3aaea90f-b9d0-49fd-b6f5-94ffaffc242c",
   "metadata": {},
   "source": [
    "# Find correlations"
   ]
  },
  {
   "cell_type": "code",
   "execution_count": 12,
   "id": "d895a6e6-338e-4690-ac6d-66dc69c08e7b",
   "metadata": {},
   "outputs": [
    {
     "name": "stdout",
     "output_type": "stream",
     "text": [
      "SAT Critical Reading Avg. Score    0.986820\n",
      "SAT Math Avg. Score                0.972643\n",
      "SAT Writing Avg. Score             0.987771\n",
      "sat_score                          1.000000\n",
      "AP Test Takers                     0.523140\n",
      "                                     ...   \n",
      "priority08                              NaN\n",
      "priority09                              NaN\n",
      "priority10                              NaN\n",
      "lat                               -0.121029\n",
      "lon                               -0.132222\n",
      "Name: sat_score, Length: 67, dtype: float64\n"
     ]
    }
   ],
   "source": [
    "correlations = combined.corr()\n",
    "correlations = correlations[\"sat_score\"]\n",
    "print(correlations)"
   ]
  },
  {
   "cell_type": "markdown",
   "id": "6f643032-f5b9-41cb-b323-c5737960a49c",
   "metadata": {},
   "source": [
    "# Plotting survey correlations"
   ]
  },
  {
   "cell_type": "code",
   "execution_count": 13,
   "id": "e9372597-8926-413d-8f63-97976faef0f7",
   "metadata": {},
   "outputs": [],
   "source": [
    "# Remove DBN since it's a unique identifier, not a useful numerical value for correlation.\n",
    "survey_fields.remove(\"DBN\")"
   ]
  },
  {
   "cell_type": "code",
   "execution_count": 19,
   "id": "d10b95fc-fa43-4c6c-a31f-65c49470607e",
   "metadata": {},
   "outputs": [
    {
     "data": {
      "text/plain": [
       "<AxesSubplot:>"
      ]
     },
     "execution_count": 19,
     "metadata": {},
     "output_type": "execute_result"
    },
    {
     "data": {
      "image/png": "[encoded data removed]",
      "text/plain": [
       "<Figure size 432x288 with 1 Axes>"
      ]
     },
     "metadata": {
      "needs_background": "light"
     },
     "output_type": "display_data"
    }
   ],
   "source": [
    "combined.corr().loc[survey_fields,'sat_score'].plot(kind='barh')"
   ]
  },
  {
   "cell_type": "markdown",
   "id": "0e8d1473-5390-4a9e-bf36-e3f5c1d481c4",
   "metadata": {},
   "source": [
    "Nothing here is particularly surprising. A couple things worth noting might be that:\n",
    "* In general, the number of survey respondents correlates positively with the sat scores.\n",
    "* In general, the safety scores (as perceived by teachers and students) correlates positively with sat scores."
   ]
  },
  {
   "cell_type": "code",
   "execution_count": 20,
   "id": "99c4a213-a79f-45b2-ba2b-66901988c803",
   "metadata": {},
   "outputs": [
    {
     "data": {
      "image/png": "[encoded data removed]",
      "text/plain": [
       "<Figure size 432x288 with 1 Axes>"
      ]
     },
     "metadata": {
      "needs_background": "light"
     },
     "output_type": "display_data"
    }
   ],
   "source": [
    "combined.plot('saf_s_11','sat_score',kind='scatter')\n",
    "plt.show()"
   ]
  },
  {
   "cell_type": "markdown",
   "id": "a4b45387-e4c8-40d1-bb78-87016641128d",
   "metadata": {},
   "source": [
    "Plotting confirms that there does seem to be some kind of correlation between safety perception and SAT scores."
   ]
  },
  {
   "cell_type": "code",
   "execution_count": 38,
   "id": "15e4297f-515d-4f5f-956e-236315fbcabb",
   "metadata": {},
   "outputs": [
    {
     "data": {
      "text/plain": [
       "boro\n",
       "Bronx            6.606577\n",
       "Brooklyn         6.370755\n",
       "Manhattan        6.831370\n",
       "Queens           6.721875\n",
       "Staten Island    6.530000\n",
       "Name: saf_s_11, dtype: float64"
      ]
     },
     "execution_count": 38,
     "metadata": {},
     "output_type": "execute_result"
    }
   ],
   "source": [
    "combined.groupby('boro').mean()['saf_s_11']"
   ]
  },
  {
   "cell_type": "markdown",
   "id": "cd7a4814-c20e-481b-856b-21f9552bb3d2",
   "metadata": {},
   "source": [
    "Looks like Manhattan and Brooklyn have the two highest safety scores, per student survey respondents"
   ]
  },
  {
   "cell_type": "code",
   "execution_count": 39,
   "id": "14ed0a54-3230-4a1b-a90b-6f8b5e7eaf61",
   "metadata": {},
   "outputs": [
    {
     "data": {
      "text/plain": [
       "<AxesSubplot:>"
      ]
     },
     "execution_count": 39,
     "metadata": {},
     "output_type": "execute_result"
    },
    {
     "data": {
      "image/png": "[encoded data removed]",
      "text/plain": [
       "<Figure size 432x288 with 1 Axes>"
      ]
     },
     "metadata": {
      "needs_background": "light"
     },
     "output_type": "display_data"
    }
   ],
   "source": [
    "dem_cols = ['white_per','asian_per','black_per','hispanic_per']\n",
    "combined.corr().loc[dem_cols,'sat_score'].plot(kind='barh')"
   ]
  },
  {
   "cell_type": "markdown",
   "id": "fe29b3bf-9900-4e52-9352-b0578e471616",
   "metadata": {},
   "source": [
    "This plot above seems to indicate that there is a positive correlation between the percentage of white and asian people in a high school and its SAT scores, but a negative correlation between the percentage of black and hispanic people in a high school and its SAT scores. This indicates that the SAT might not be the most fair test for all people groups"
   ]
  },
  {
   "cell_type": "code",
   "execution_count": 40,
   "id": "3c471a2e-24a7-4464-ae31-38066d7ac4fa",
   "metadata": {},
   "outputs": [
    {
     "data": {
      "text/plain": [
       "<AxesSubplot:xlabel='hispanic_per', ylabel='sat_score'>"
      ]
     },
     "execution_count": 40,
     "metadata": {},
     "output_type": "execute_result"
    },
    {
     "data": {
      "image/png": "[encoded data removed]",
      "text/plain": [
       "<Figure size 432x288 with 1 Axes>"
      ]
     },
     "metadata": {
      "needs_background": "light"
     },
     "output_type": "display_data"
    }
   ],
   "source": [
    "combined.plot('hispanic_per','sat_score',kind='scatter')"
   ]
  },
  {
   "cell_type": "markdown",
   "id": "0fe2c0be-54fb-4934-95d3-bae6436a2173",
   "metadata": {},
   "source": [
    "This plot confirms the findings from the bar plot above. The higher the percentage of hispanic students, the lower the sat score of the high school."
   ]
  },
  {
   "cell_type": "code",
   "execution_count": 42,
   "id": "abfea41c-ea2b-411e-b87c-3cb52f4c430c",
   "metadata": {},
   "outputs": [
    {
     "data": {
      "text/plain": [
       "44                         MANHATTAN BRIDGES HIGH SCHOOL\n",
       "82      WASHINGTON HEIGHTS EXPEDITIONARY LEARNING SCHOOL\n",
       "89     GREGORIO LUPERON HIGH SCHOOL FOR SCIENCE AND M...\n",
       "125                  ACADEMY FOR LANGUAGE AND TECHNOLOGY\n",
       "141                INTERNATIONAL SCHOOL FOR LIBERAL ARTS\n",
       "176     PAN AMERICAN INTERNATIONAL HIGH SCHOOL AT MONROE\n",
       "253                            MULTICULTURAL HIGH SCHOOL\n",
       "286               PAN AMERICAN INTERNATIONAL HIGH SCHOOL\n",
       "Name: SCHOOL NAME, dtype: object"
      ]
     },
     "execution_count": 42,
     "metadata": {},
     "output_type": "execute_result"
    }
   ],
   "source": [
    "combined.loc[combined['hispanic_per']>95, 'SCHOOL NAME']"
   ]
  },
  {
   "cell_type": "markdown",
   "id": "99bcd6db-9a83-4b0e-9939-8b402f64dd8d",
   "metadata": {},
   "source": [
    "Looking these schools up on Google/Wikipedia, we notice that a lot of them are geared towards spanish-speaking immigrants. We already know there's a strong negative correlation between the `ell_percent` (english learners/non-native english speakers) of a school and its sat scores. Sounds like the SAT is just not a fair test for non-english native speakers."
   ]
  },
  {
   "cell_type": "code",
   "execution_count": 43,
   "id": "98f3d5d6-72b6-4701-b875-8396848614f3",
   "metadata": {},
   "outputs": [
    {
     "data": {
      "text/plain": [
       "37                                STUYVESANT HIGH SCHOOL\n",
       "151                         BRONX HIGH SCHOOL OF SCIENCE\n",
       "187                       BROOKLYN TECHNICAL HIGH SCHOOL\n",
       "327    QUEENS HIGH SCHOOL FOR THE SCIENCES AT YORK CO...\n",
       "356                  STATEN ISLAND TECHNICAL HIGH SCHOOL\n",
       "Name: SCHOOL NAME, dtype: object"
      ]
     },
     "execution_count": 43,
     "metadata": {},
     "output_type": "execute_result"
    }
   ],
   "source": [
    " combined.loc[(combined['hispanic_per'] < 10) & (combined['sat_score'] > 1800),'SCHOOL NAME']"
   ]
  },
  {
   "cell_type": "markdown",
   "id": "6c0df5a0-4656-440d-b058-62c3c79e5834",
   "metadata": {},
   "source": [
    "Seems like the high schools with higher SAT score and lower hispanic percentage are technical schools, which would of course tend to have higher SAT scores. In other words, their SAT scores are higher likely because they tend to be more technically challenging schools, however they just tend to have fewer hispanic students."
   ]
  },
  {
   "cell_type": "code",
   "execution_count": 45,
   "id": "b504baff-6a51-48e7-a8e0-17ccfb6da823",
   "metadata": {},
   "outputs": [
    {
     "data": {
      "text/plain": [
       "<AxesSubplot:>"
      ]
     },
     "execution_count": 45,
     "metadata": {},
     "output_type": "execute_result"
    },
    {
     "data": {
      "image/png": "[encoded data removed]",
      "text/plain": [
       "<Figure size 432x288 with 1 Axes>"
      ]
     },
     "metadata": {
      "needs_background": "light"
     },
     "output_type": "display_data"
    }
   ],
   "source": [
    "cols_to_inv = ['male_per','female_per']\n",
    "combined.corr().loc[cols_to_inv,'sat_score'].plot(kind='barh')"
   ]
  },
  {
   "cell_type": "markdown",
   "id": "cd044a84-1ab5-47fc-8d38-cd61ed682e5e",
   "metadata": {},
   "source": [
    "Overall there is a loose correlation between gender breakdown and SAT scores."
   ]
  },
  {
   "cell_type": "code",
   "execution_count": 46,
   "id": "947400fc-8e3b-4236-8ad0-47711ffcfc9f",
   "metadata": {},
   "outputs": [
    {
     "data": {
      "text/plain": [
       "<AxesSubplot:xlabel='female_per', ylabel='sat_score'>"
      ]
     },
     "execution_count": 46,
     "metadata": {},
     "output_type": "execute_result"
    },
    {
     "data": {
      "image/png": "[encoded data removed]",
      "text/plain": [
       "<Figure size 432x288 with 1 Axes>"
      ]
     },
     "metadata": {
      "needs_background": "light"
     },
     "output_type": "display_data"
    }
   ],
   "source": [
    "combined.plot('female_per','sat_score',kind='scatter')"
   ]
  },
  {
   "cell_type": "markdown",
   "id": "0389df90-4a07-410c-a6e4-7befd21cd75e",
   "metadata": {},
   "source": [
    "As suspected there is no noteworthy correlation between female percentage of student body and sat scores."
   ]
  },
  {
   "cell_type": "code",
   "execution_count": 48,
   "id": "ba1f1ada-2bfb-4dae-be9f-44af5d4202a8",
   "metadata": {},
   "outputs": [
    {
     "data": {
      "text/plain": [
       "5                         BARD HIGH SCHOOL EARLY COLLEGE\n",
       "26                         ELEANOR ROOSEVELT HIGH SCHOOL\n",
       "60                                    BEACON HIGH SCHOOL\n",
       "61     FIORELLO H. LAGUARDIA HIGH SCHOOL OF MUSIC & A...\n",
       "302                          TOWNSEND HARRIS HIGH SCHOOL\n",
       "Name: SCHOOL NAME, dtype: object"
      ]
     },
     "execution_count": 48,
     "metadata": {},
     "output_type": "execute_result"
    }
   ],
   "source": [
    "combined.loc[(combined['female_per']>60) & (combined['sat_score'] > 1700),'SCHOOL NAME']"
   ]
  },
  {
   "cell_type": "markdown",
   "id": "de36b596-df43-4286-8569-4167d7897cf2",
   "metadata": {},
   "source": [
    "Looking up these schools on Google yielded no noteworthy common attribute."
   ]
  },
  {
   "cell_type": "code",
   "execution_count": 49,
   "id": "2248fb7c-8100-40cf-869c-310ac3e5a3e0",
   "metadata": {},
   "outputs": [
    {
     "data": {
      "text/plain": [
       "<AxesSubplot:xlabel='ap_per', ylabel='sat_score'>"
      ]
     },
     "execution_count": 49,
     "metadata": {},
     "output_type": "execute_result"
    },
    {
     "data": {
      "image/png": "[encoded data removed]",
      "text/plain": [
       "<Figure size 432x288 with 1 Axes>"
      ]
     },
     "metadata": {
      "needs_background": "light"
     },
     "output_type": "display_data"
    }
   ],
   "source": [
    "combined['ap_per'] = combined['AP Test Takers ']/combined['total_enrollment']\n",
    "combined.plot('ap_per','sat_score',kind='scatter')"
   ]
  },
  {
   "cell_type": "code",
   "execution_count": 50,
   "id": "68fd0cf6-7d17-4a99-ade3-977a203897ae",
   "metadata": {},
   "outputs": [
    {
     "data": {
      "text/plain": [
       "0.05717081390766952"
      ]
     },
     "execution_count": 50,
     "metadata": {},
     "output_type": "execute_result"
    }
   ],
   "source": [
    "combined.corr().loc['ap_per','sat_score']"
   ]
  },
  {
   "cell_type": "markdown",
   "id": "9a05967d-4501-4529-8920-2ce32129164c",
   "metadata": {},
   "source": [
    "The scatter plot and the correlation score indicate that there is actually no correlation between the percentage of a student body that takes at least one AP exam, with the school's SAT scores."
   ]
  }
 ],
 "metadata": {
  "kernelspec": {
   "display_name": "Python 3 (ipykernel)",
   "language": "python",
   "name": "python3"
  },
  "language_info": {
   "codemirror_mode": {
    "name": "ipython",
    "version": 3
   },
   "file_extension": ".py",
   "mimetype": "text/x-python",
   "name": "python",
   "nbconvert_exporter": "python",
   "pygments_lexer": "ipython3",
   "version": "3.9.1"
  }
 },
 "nbformat": 4,
 "nbformat_minor": 5
}
